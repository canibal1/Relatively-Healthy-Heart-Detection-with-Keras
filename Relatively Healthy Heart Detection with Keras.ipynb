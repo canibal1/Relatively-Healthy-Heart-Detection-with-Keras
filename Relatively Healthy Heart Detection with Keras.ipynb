{
  "nbformat": 4,
  "nbformat_minor": 0,
  "metadata": {
    "colab": {
      "name": "Untitled0.ipynb",
      "provenance": []
    },
    "kernelspec": {
      "name": "python3",
      "display_name": "Python 3"
    },
    "language_info": {
      "name": "python"
    }
  },
  "cells": [
    {
      "cell_type": "code",
      "metadata": {
        "colab": {
          "base_uri": "https://localhost:8080/"
        },
        "id": "GGesKgc_4yMe",
        "outputId": "161f8ae6-7520-4595-9cf5-fe09c619d79d"
      },
      "source": [
        "import pandas as pd\n",
        "from tensorflow.keras.utils import get_file\n",
        "\n",
        "df = pd.read_csv(\"/content/heart.csv\", header=None)\n",
        " \n",
        "\n",
        "print(\"Read {} rows.\".format(len(df)))"
      ],
      "execution_count": 1,
      "outputs": [
        {
          "output_type": "stream",
          "text": [
            "Read 270 rows.\n"
          ],
          "name": "stdout"
        }
      ]
    },
    {
      "cell_type": "code",
      "metadata": {
        "id": "36ZMLqUy6J3Y"
      },
      "source": [
        "df.columns = ['age',\n",
        "              \"sex\",\n",
        "              \"cpt\",\n",
        "              \"rbp\",\n",
        "              \"sci\",\n",
        "              \"fbs\",\n",
        "              \"rer\",\n",
        "              \"mhra\",\n",
        "              \"eia\",\n",
        "              \"oldp\",\n",
        "              \"tsotpe\",\n",
        "              \"nomv\",\n",
        "              \"thal\",\n",
        "              \"outcome\"\n",
        "              ]\n"
      ],
      "execution_count": 2,
      "outputs": []
    },
    {
      "cell_type": "code",
      "metadata": {
        "colab": {
          "base_uri": "https://localhost:8080/",
          "height": 226
        },
        "id": "c8qcyr6M7Vxi",
        "outputId": "db180939-036b-438f-9e6d-34c47f50053b"
      },
      "source": [
        "pd.set_option('display.max_columns', 5)\n",
        "pd.set_option('display.max_rows', 5)\n",
        "df"
      ],
      "execution_count": 3,
      "outputs": [
        {
          "output_type": "execute_result",
          "data": {
            "text/html": [
              "<div>\n",
              "<style scoped>\n",
              "    .dataframe tbody tr th:only-of-type {\n",
              "        vertical-align: middle;\n",
              "    }\n",
              "\n",
              "    .dataframe tbody tr th {\n",
              "        vertical-align: top;\n",
              "    }\n",
              "\n",
              "    .dataframe thead th {\n",
              "        text-align: right;\n",
              "    }\n",
              "</style>\n",
              "<table border=\"1\" class=\"dataframe\">\n",
              "  <thead>\n",
              "    <tr style=\"text-align: right;\">\n",
              "      <th></th>\n",
              "      <th>age</th>\n",
              "      <th>sex</th>\n",
              "      <th>...</th>\n",
              "      <th>thal</th>\n",
              "      <th>outcome</th>\n",
              "    </tr>\n",
              "  </thead>\n",
              "  <tbody>\n",
              "    <tr>\n",
              "      <th>0</th>\n",
              "      <td>70.0</td>\n",
              "      <td>1.0</td>\n",
              "      <td>...</td>\n",
              "      <td>3.0</td>\n",
              "      <td>2</td>\n",
              "    </tr>\n",
              "    <tr>\n",
              "      <th>1</th>\n",
              "      <td>67.0</td>\n",
              "      <td>0.0</td>\n",
              "      <td>...</td>\n",
              "      <td>7.0</td>\n",
              "      <td>1</td>\n",
              "    </tr>\n",
              "    <tr>\n",
              "      <th>...</th>\n",
              "      <td>...</td>\n",
              "      <td>...</td>\n",
              "      <td>...</td>\n",
              "      <td>...</td>\n",
              "      <td>...</td>\n",
              "    </tr>\n",
              "    <tr>\n",
              "      <th>268</th>\n",
              "      <td>57.0</td>\n",
              "      <td>1.0</td>\n",
              "      <td>...</td>\n",
              "      <td>6.0</td>\n",
              "      <td>1</td>\n",
              "    </tr>\n",
              "    <tr>\n",
              "      <th>269</th>\n",
              "      <td>67.0</td>\n",
              "      <td>1.0</td>\n",
              "      <td>...</td>\n",
              "      <td>3.0</td>\n",
              "      <td>2</td>\n",
              "    </tr>\n",
              "  </tbody>\n",
              "</table>\n",
              "<p>270 rows × 14 columns</p>\n",
              "</div>"
            ],
            "text/plain": [
              "      age  sex  ...  thal  outcome\n",
              "0    70.0  1.0  ...   3.0        2\n",
              "1    67.0  0.0  ...   7.0        1\n",
              "..    ...  ...  ...   ...      ...\n",
              "268  57.0  1.0  ...   6.0        1\n",
              "269  67.0  1.0  ...   3.0        2\n",
              "\n",
              "[270 rows x 14 columns]"
            ]
          },
          "metadata": {
            "tags": []
          },
          "execution_count": 3
        }
      ]
    },
    {
      "cell_type": "code",
      "metadata": {
        "id": "hVO_HBKZky_c"
      },
      "source": [
        "import pandas as pd\n",
        "import os\n",
        "import numpy as np\n",
        "from sklearn import metrics\n",
        "from scipy.stats import zscore\n",
        "\n",
        "def expand_categories(values):\n",
        "    result = []\n",
        "    s = values.value_counts()\n",
        "    t = float(len(values))\n",
        "    for v in s.index:\n",
        "        result.append(\"{}:{}%\".format(v,round(100*(s[v]/t),2)))\n",
        "    return \"[{}]\".format(\",\".join(result))\n",
        "        \n",
        "def analyze(df):\n",
        "    print()\n",
        "    cols = df.columns.values\n",
        "    total = float(len(df))\n",
        "\n",
        "    print(\"{} rows\".format(int(total)))\n",
        "    for col in cols:\n",
        "        uniques = df[col].unique()\n",
        "        unique_count = len(uniques)\n",
        "        if unique_count>100:\n",
        "            print(\"** {}:{} ({}%)\".format(col,unique_count,int(((unique_count)/total)*100)))\n",
        "        else:\n",
        "            print(\"** {}:{}\".format(col,expand_categories(df[col])))\n",
        "            expand_categories(df[col])"
      ],
      "execution_count": 4,
      "outputs": []
    },
    {
      "cell_type": "code",
      "metadata": {
        "colab": {
          "base_uri": "https://localhost:8080/"
        },
        "id": "1haJlw9S7g8l",
        "outputId": "371f2d58-4eb4-4c49-e2ea-365cc77387c9"
      },
      "source": [
        "analyze(df)"
      ],
      "execution_count": 5,
      "outputs": [
        {
          "output_type": "stream",
          "text": [
            "\n",
            "270 rows\n",
            "** age:[54.0:5.93%,58.0:5.56%,51.0:4.44%,59.0:4.44%,60.0:4.44%,57.0:4.44%,52.0:4.07%,62.0:4.07%,44.0:3.7%,56.0:3.33%,64.0:3.33%,41.0:3.33%,65.0:2.96%,42.0:2.96%,67.0:2.96%,48.0:2.59%,43.0:2.59%,53.0:2.59%,61.0:2.59%,63.0:2.59%,50.0:2.59%,46.0:2.59%,45.0:2.59%,66.0:2.22%,55.0:2.22%,49.0:1.85%,70.0:1.48%,47.0:1.48%,71.0:1.11%,40.0:1.11%,39.0:1.11%,35.0:1.11%,69.0:1.11%,68.0:1.11%,37.0:0.74%,34.0:0.74%,77.0:0.37%,76.0:0.37%,74.0:0.37%,38.0:0.37%,29.0:0.37%]\n",
            "** sex:[1.0:67.78%,0.0:32.22%]\n",
            "** cpt:[4.0:47.78%,3.0:29.26%,2.0:15.56%,1.0:7.41%]\n",
            "** rbp:[120.0:12.59%,130.0:11.48%,140.0:11.11%,110.0:6.3%,150.0:6.3%,160.0:4.07%,125.0:3.7%,128.0:3.33%,112.0:3.33%,138.0:3.33%,118.0:2.59%,135.0:2.22%,108.0:2.22%,132.0:2.22%,124.0:1.85%,145.0:1.85%,100.0:1.48%,134.0:1.48%,152.0:1.48%,136.0:1.11%,142.0:1.11%,115.0:1.11%,122.0:1.11%,126.0:1.11%,105.0:1.11%,180.0:1.11%,178.0:0.74%,102.0:0.74%,170.0:0.74%,94.0:0.74%,165.0:0.37%,129.0:0.37%,123.0:0.37%,192.0:0.37%,117.0:0.37%,200.0:0.37%,158.0:0.37%,155.0:0.37%,174.0:0.37%,148.0:0.37%,146.0:0.37%,104.0:0.37%,144.0:0.37%,106.0:0.37%,156.0:0.37%,101.0:0.37%,172.0:0.37%]\n",
            "** sci:144 (53%)\n",
            "** fbs:[0.0:85.19%,1.0:14.81%]\n",
            "** rer:[2.0:50.74%,0.0:48.52%,1.0:0.74%]\n",
            "** mhra:[162.0:3.7%,160.0:3.33%,163.0:2.96%,172.0:2.59%,125.0:2.59%,158.0:2.22%,150.0:2.22%,173.0:2.22%,132.0:2.22%,142.0:2.22%,152.0:2.22%,143.0:1.85%,157.0:1.85%,165.0:1.85%,147.0:1.85%,178.0:1.85%,156.0:1.85%,161.0:1.85%,154.0:1.85%,170.0:1.85%,140.0:1.85%,168.0:1.85%,126.0:1.48%,151.0:1.48%,179.0:1.48%,169.0:1.48%,171.0:1.48%,144.0:1.48%,182.0:1.48%,122.0:1.48%,145.0:1.48%,159.0:1.48%,138.0:1.11%,146.0:1.11%,114.0:1.11%,105.0:1.11%,111.0:1.11%,148.0:1.11%,175.0:1.11%,153.0:1.11%,131.0:1.11%,130.0:1.11%,174.0:1.11%,120.0:1.11%,155.0:1.11%,186.0:0.74%,180.0:0.74%,141.0:0.74%,139.0:0.74%,181.0:0.74%,109.0:0.74%,96.0:0.74%,112.0:0.74%,166.0:0.74%,133.0:0.74%,116.0:0.74%,149.0:0.74%,108.0:0.74%,103.0:0.74%,185.0:0.37%,113.0:0.37%,121.0:0.37%,190.0:0.37%,95.0:0.37%,136.0:0.37%,188.0:0.37%,97.0:0.37%,127.0:0.37%,202.0:0.37%,187.0:0.37%,194.0:0.37%,106.0:0.37%,115.0:0.37%,167.0:0.37%,129.0:0.37%,195.0:0.37%,192.0:0.37%,99.0:0.37%,184.0:0.37%,88.0:0.37%,117.0:0.37%,124.0:0.37%,71.0:0.37%,118.0:0.37%,164.0:0.37%,128.0:0.37%,123.0:0.37%,134.0:0.37%,177.0:0.37%,137.0:0.37%]\n",
            "** eia:[0.0:67.04%,1.0:32.96%]\n",
            "** oldp:[0.0:31.48%,1.2:5.19%,1.4:4.81%,1.0:4.44%,0.6:4.44%,0.2:4.07%,0.8:4.07%,1.6:4.07%,1.8:3.7%,2.0:2.96%,0.4:2.96%,2.6:2.22%,0.1:2.22%,1.9:1.85%,0.5:1.85%,1.5:1.85%,2.2:1.48%,3.0:1.48%,3.6:1.48%,2.8:1.48%,0.3:1.11%,0.9:1.11%,2.4:1.11%,2.5:0.74%,3.2:0.74%,1.1:0.74%,3.4:0.74%,4.2:0.74%,2.3:0.74%,4.0:0.74%,3.1:0.37%,1.3:0.37%,2.1:0.37%,3.5:0.37%,6.2:0.37%,0.7:0.37%,5.6:0.37%,3.8:0.37%,2.9:0.37%]\n",
            "** tsotpe:[1.0:48.15%,2.0:45.19%,3.0:6.67%]\n",
            "** nomv:[0.0:59.26%,1.0:21.48%,2.0:12.22%,3.0:7.04%]\n",
            "** thal:[3.0:56.3%,7.0:38.52%,6.0:5.19%]\n",
            "** outcome:[1:55.56%,2:44.44%]\n"
          ],
          "name": "stdout"
        }
      ]
    },
    {
      "cell_type": "code",
      "metadata": {
        "id": "kS6l-bSB75_7"
      },
      "source": [
        "def encode_numeric_zscore(df, name, mean=None, sd=None):\n",
        "    if mean is None:\n",
        "        mean = df[name].mean()\n",
        "\n",
        "    if sd is None:\n",
        "        sd = df[name].std()\n",
        "\n",
        "    df[name] = (df[name] - mean) / sd"
      ],
      "execution_count": 6,
      "outputs": []
    },
    {
      "cell_type": "code",
      "metadata": {
        "colab": {
          "base_uri": "https://localhost:8080/",
          "height": 226
        },
        "id": "xYLo25F078_Q",
        "outputId": "348a03ad-0062-43fc-b4b2-b5f8c6466d0a"
      },
      "source": [
        "encode_numeric_zscore(df, 'age')\n",
        "encode_numeric_zscore(df, 'sex')\n",
        "encode_numeric_zscore(df, 'cpt')\n",
        "encode_numeric_zscore(df, 'rbp')\n",
        "encode_numeric_zscore(df, 'sci')\n",
        "encode_numeric_zscore(df, 'fbs')\n",
        "encode_numeric_zscore(df, 'rer')\n",
        "encode_numeric_zscore(df, 'mhra')\n",
        "encode_numeric_zscore(df, 'eia')\n",
        "encode_numeric_zscore(df, 'oldp')\n",
        "encode_numeric_zscore(df, 'tsotpe')\n",
        "encode_numeric_zscore(df, 'nomv')\n",
        "encode_numeric_zscore(df, 'thal')\n",
        "df.dropna(inplace=True,axis=1)\n",
        "df[0:5]"
      ],
      "execution_count": 7,
      "outputs": [
        {
          "output_type": "execute_result",
          "data": {
            "text/html": [
              "<div>\n",
              "<style scoped>\n",
              "    .dataframe tbody tr th:only-of-type {\n",
              "        vertical-align: middle;\n",
              "    }\n",
              "\n",
              "    .dataframe tbody tr th {\n",
              "        vertical-align: top;\n",
              "    }\n",
              "\n",
              "    .dataframe thead th {\n",
              "        text-align: right;\n",
              "    }\n",
              "</style>\n",
              "<table border=\"1\" class=\"dataframe\">\n",
              "  <thead>\n",
              "    <tr style=\"text-align: right;\">\n",
              "      <th></th>\n",
              "      <th>age</th>\n",
              "      <th>sex</th>\n",
              "      <th>...</th>\n",
              "      <th>thal</th>\n",
              "      <th>outcome</th>\n",
              "    </tr>\n",
              "  </thead>\n",
              "  <tbody>\n",
              "    <tr>\n",
              "      <th>0</th>\n",
              "      <td>1.708920</td>\n",
              "      <td>0.688222</td>\n",
              "      <td>...</td>\n",
              "      <td>-0.874083</td>\n",
              "      <td>2</td>\n",
              "    </tr>\n",
              "    <tr>\n",
              "      <th>1</th>\n",
              "      <td>1.379578</td>\n",
              "      <td>-1.447639</td>\n",
              "      <td>...</td>\n",
              "      <td>1.187073</td>\n",
              "      <td>1</td>\n",
              "    </tr>\n",
              "    <tr>\n",
              "      <th>2</th>\n",
              "      <td>0.281771</td>\n",
              "      <td>0.688222</td>\n",
              "      <td>...</td>\n",
              "      <td>1.187073</td>\n",
              "      <td>2</td>\n",
              "    </tr>\n",
              "    <tr>\n",
              "      <th>3</th>\n",
              "      <td>1.050236</td>\n",
              "      <td>0.688222</td>\n",
              "      <td>...</td>\n",
              "      <td>1.187073</td>\n",
              "      <td>1</td>\n",
              "    </tr>\n",
              "    <tr>\n",
              "      <th>4</th>\n",
              "      <td>2.148043</td>\n",
              "      <td>-1.447639</td>\n",
              "      <td>...</td>\n",
              "      <td>-0.874083</td>\n",
              "      <td>1</td>\n",
              "    </tr>\n",
              "  </tbody>\n",
              "</table>\n",
              "<p>5 rows × 14 columns</p>\n",
              "</div>"
            ],
            "text/plain": [
              "        age       sex  ...      thal  outcome\n",
              "0  1.708920  0.688222  ... -0.874083        2\n",
              "1  1.379578 -1.447639  ...  1.187073        1\n",
              "2  0.281771  0.688222  ...  1.187073        2\n",
              "3  1.050236  0.688222  ...  1.187073        1\n",
              "4  2.148043 -1.447639  ... -0.874083        1\n",
              "\n",
              "[5 rows x 14 columns]"
            ]
          },
          "metadata": {
            "tags": []
          },
          "execution_count": 7
        }
      ]
    },
    {
      "cell_type": "code",
      "metadata": {
        "id": "jk8NFkbBlM5u"
      },
      "source": [
        "# Convert to numpy - Classification\n",
        "x_columns = df.columns.drop('outcome')\n",
        "x = df[x_columns].values\n",
        "dummies = pd.get_dummies(df['outcome']) # Classification\n",
        "outcomes = dummies.columns\n",
        "num_classes = len(outcomes)\n",
        "y = dummies.values"
      ],
      "execution_count": 8,
      "outputs": []
    },
    {
      "cell_type": "code",
      "metadata": {
        "colab": {
          "base_uri": "https://localhost:8080/"
        },
        "id": "CVFZJqUSlUwf",
        "outputId": "7c6fbc68-ac81-4302-908a-ac4d660c84e6"
      },
      "source": [
        "df.groupby('outcome')['outcome'].count()"
      ],
      "execution_count": 9,
      "outputs": [
        {
          "output_type": "execute_result",
          "data": {
            "text/plain": [
              "outcome\n",
              "1    150\n",
              "2    120\n",
              "Name: outcome, dtype: int64"
            ]
          },
          "metadata": {
            "tags": []
          },
          "execution_count": 9
        }
      ]
    },
    {
      "cell_type": "code",
      "metadata": {
        "colab": {
          "base_uri": "https://localhost:8080/"
        },
        "id": "eWyXvSzY8mP5",
        "outputId": "299785d5-c2ea-470d-c407-39e6bb678ea0"
      },
      "source": [
        "import pandas as pd\n",
        "import io\n",
        "import requests\n",
        "import numpy as np\n",
        "import os\n",
        "from sklearn.model_selection import train_test_split\n",
        "from sklearn import metrics\n",
        "from tensorflow.keras.models import Sequential\n",
        "from tensorflow.keras.layers import Dense, Activation\n",
        "from tensorflow.keras.callbacks import EarlyStopping\n",
        "\n",
        "# Create a test/train split.  25% test\n",
        "# Split into train/test\n",
        "x_train, x_test, y_train, y_test = train_test_split(\n",
        "    x, y, test_size=0.25, random_state=42)\n",
        "\n",
        "# Create neural net\n",
        "model = Sequential()\n",
        "model.add(Dense(10, input_dim=x.shape[1], activation='relu'))\n",
        "model.add(Dense(50, input_dim=x.shape[1], activation='relu'))\n",
        "model.add(Dense(10, input_dim=x.shape[1], activation='relu'))\n",
        "model.add(Dense(1, kernel_initializer='normal'))\n",
        "model.add(Dense(y.shape[1],activation='softmax'))\n",
        "model.compile(loss='categorical_crossentropy', optimizer='adam')\n",
        "monitor = EarlyStopping(monitor='val_loss', min_delta=1e-3, \n",
        "                        patience=5, verbose=1, mode='auto',\n",
        "                           restore_best_weights=True)\n",
        "model.fit(x_train,y_train,validation_data=(x_test,y_test),\n",
        "          callbacks=[monitor],verbose=2,epochs=1000)"
      ],
      "execution_count": 10,
      "outputs": [
        {
          "output_type": "stream",
          "text": [
            "Epoch 1/1000\n",
            "7/7 - 1s - loss: 0.6926 - val_loss: 0.6897\n",
            "Epoch 2/1000\n",
            "7/7 - 0s - loss: 0.6893 - val_loss: 0.6865\n",
            "Epoch 3/1000\n",
            "7/7 - 0s - loss: 0.6857 - val_loss: 0.6820\n",
            "Epoch 4/1000\n",
            "7/7 - 0s - loss: 0.6807 - val_loss: 0.6759\n",
            "Epoch 5/1000\n",
            "7/7 - 0s - loss: 0.6745 - val_loss: 0.6674\n",
            "Epoch 6/1000\n",
            "7/7 - 0s - loss: 0.6658 - val_loss: 0.6559\n",
            "Epoch 7/1000\n",
            "7/7 - 0s - loss: 0.6534 - val_loss: 0.6403\n",
            "Epoch 8/1000\n",
            "7/7 - 0s - loss: 0.6372 - val_loss: 0.6195\n",
            "Epoch 9/1000\n",
            "7/7 - 0s - loss: 0.6155 - val_loss: 0.5938\n",
            "Epoch 10/1000\n",
            "7/7 - 0s - loss: 0.5896 - val_loss: 0.5640\n",
            "Epoch 11/1000\n",
            "7/7 - 0s - loss: 0.5601 - val_loss: 0.5325\n",
            "Epoch 12/1000\n",
            "7/7 - 0s - loss: 0.5304 - val_loss: 0.5013\n",
            "Epoch 13/1000\n",
            "7/7 - 0s - loss: 0.5015 - val_loss: 0.4719\n",
            "Epoch 14/1000\n",
            "7/7 - 0s - loss: 0.4763 - val_loss: 0.4475\n",
            "Epoch 15/1000\n",
            "7/7 - 0s - loss: 0.4572 - val_loss: 0.4247\n",
            "Epoch 16/1000\n",
            "7/7 - 0s - loss: 0.4373 - val_loss: 0.4064\n",
            "Epoch 17/1000\n",
            "7/7 - 0s - loss: 0.4232 - val_loss: 0.3912\n",
            "Epoch 18/1000\n",
            "7/7 - 0s - loss: 0.4104 - val_loss: 0.3776\n",
            "Epoch 19/1000\n",
            "7/7 - 0s - loss: 0.4035 - val_loss: 0.3651\n",
            "Epoch 20/1000\n",
            "7/7 - 0s - loss: 0.3945 - val_loss: 0.3576\n",
            "Epoch 21/1000\n",
            "7/7 - 0s - loss: 0.3840 - val_loss: 0.3540\n",
            "Epoch 22/1000\n",
            "7/7 - 0s - loss: 0.3777 - val_loss: 0.3511\n",
            "Epoch 23/1000\n",
            "7/7 - 0s - loss: 0.3717 - val_loss: 0.3467\n",
            "Epoch 24/1000\n",
            "7/7 - 0s - loss: 0.3666 - val_loss: 0.3409\n",
            "Epoch 25/1000\n",
            "7/7 - 0s - loss: 0.3606 - val_loss: 0.3365\n",
            "Epoch 26/1000\n",
            "7/7 - 0s - loss: 0.3554 - val_loss: 0.3308\n",
            "Epoch 27/1000\n",
            "7/7 - 0s - loss: 0.3512 - val_loss: 0.3274\n",
            "Epoch 28/1000\n",
            "7/7 - 0s - loss: 0.3468 - val_loss: 0.3240\n",
            "Epoch 29/1000\n",
            "7/7 - 0s - loss: 0.3421 - val_loss: 0.3220\n",
            "Epoch 30/1000\n",
            "7/7 - 0s - loss: 0.3397 - val_loss: 0.3205\n",
            "Epoch 31/1000\n",
            "7/7 - 0s - loss: 0.3349 - val_loss: 0.3186\n",
            "Epoch 32/1000\n",
            "7/7 - 0s - loss: 0.3313 - val_loss: 0.3178\n",
            "Epoch 33/1000\n",
            "7/7 - 0s - loss: 0.3283 - val_loss: 0.3161\n",
            "Epoch 34/1000\n",
            "7/7 - 0s - loss: 0.3250 - val_loss: 0.3147\n",
            "Epoch 35/1000\n",
            "7/7 - 0s - loss: 0.3209 - val_loss: 0.3149\n",
            "Epoch 36/1000\n",
            "7/7 - 0s - loss: 0.3172 - val_loss: 0.3152\n",
            "Epoch 37/1000\n",
            "7/7 - 0s - loss: 0.3149 - val_loss: 0.3145\n",
            "Epoch 38/1000\n",
            "7/7 - 0s - loss: 0.3114 - val_loss: 0.3134\n",
            "Epoch 39/1000\n",
            "7/7 - 0s - loss: 0.3082 - val_loss: 0.3105\n",
            "Epoch 40/1000\n",
            "7/7 - 0s - loss: 0.3054 - val_loss: 0.3092\n",
            "Epoch 41/1000\n",
            "7/7 - 0s - loss: 0.3018 - val_loss: 0.3071\n",
            "Epoch 42/1000\n",
            "7/7 - 0s - loss: 0.2988 - val_loss: 0.3073\n",
            "Epoch 43/1000\n",
            "7/7 - 0s - loss: 0.2962 - val_loss: 0.3082\n",
            "Epoch 44/1000\n",
            "7/7 - 0s - loss: 0.2948 - val_loss: 0.3097\n",
            "Epoch 45/1000\n",
            "7/7 - 0s - loss: 0.2920 - val_loss: 0.3101\n",
            "Epoch 46/1000\n",
            "7/7 - 0s - loss: 0.2887 - val_loss: 0.3101\n",
            "Restoring model weights from the end of the best epoch.\n",
            "Epoch 00046: early stopping\n"
          ],
          "name": "stdout"
        },
        {
          "output_type": "execute_result",
          "data": {
            "text/plain": [
              "<tensorflow.python.keras.callbacks.History at 0x7f51bd7e7ad0>"
            ]
          },
          "metadata": {
            "tags": []
          },
          "execution_count": 10
        }
      ]
    },
    {
      "cell_type": "code",
      "metadata": {
        "colab": {
          "base_uri": "https://localhost:8080/"
        },
        "id": "wWR90Dcyljq_",
        "outputId": "cb551225-391d-4a83-bcad-03aea9398947"
      },
      "source": [
        "\n",
        "# Measure accuracy\n",
        "pred = model.predict(x_test)\n",
        "pred = np.argmax(pred,axis=1)\n",
        "y_eval = np.argmax(y_test,axis=1)\n",
        "score = metrics.accuracy_score(y_eval, pred)\n",
        "print(\"Doğrulama Skoru: {}\".format(score))"
      ],
      "execution_count": 11,
      "outputs": [
        {
          "output_type": "stream",
          "text": [
            "Doğrulama Skoru: 0.9117647058823529\n"
          ],
          "name": "stdout"
        }
      ]
    }
  ]
}